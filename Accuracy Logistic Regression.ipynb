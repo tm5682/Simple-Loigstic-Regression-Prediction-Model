{
 "cells": [
  {
   "cell_type": "code",
   "execution_count": 17,
   "id": "068d67ba",
   "metadata": {},
   "outputs": [],
   "source": [
    "# From the given csv data set of students behavior we want to predict their performance (column G3) from their other given features.\n",
    "# Refer the actual scv for more details on each feature sets and target\n",
    "# The target should be G3.\n",
    "# In G3 column, assume the values less than 10 to be 0, and the values equal to or more than 10 to be 1. \n",
    "# Purpose of the model is to evaluate the accuracy of the model using logistic regression. \n",
    "\n",
    "import pandas as pd\n",
    "from sklearn.linear_model import LogisticRegression\n",
    "from sklearn.model_selection import train_test_split\n",
    "from sklearn.metrics import accuracy_score\n",
    "\n",
    "# Load the dataset\n",
    "data = pd.read_csv('student.cleaned.data.csv')"
   ]
  },
  {
   "cell_type": "code",
   "execution_count": 6,
   "id": "7eb71a5f",
   "metadata": {},
   "outputs": [],
   "source": [
    "# features and target\n",
    "# Please note there was a error due to spelling with goout in question and on the csv file\n",
    "\n",
    "X = data[['traveltime', 'studytime', 'failures', 'famrel', 'freetime', 'goout', 'health']]\n",
    "y = (data['G3'] >= 10).astype(int)"
   ]
  },
  {
   "cell_type": "code",
   "execution_count": 7,
   "id": "a5dff419",
   "metadata": {},
   "outputs": [],
   "source": [
    "# Split the data into training and test sets\n",
    "X_train, X_test, y_train, y_test = train_test_split(X, y, test_size=0.1, random_state=42)\n"
   ]
  },
  {
   "cell_type": "code",
   "execution_count": 9,
   "id": "d3414953",
   "metadata": {},
   "outputs": [
    {
     "data": {
      "text/plain": [
       "LogisticRegression()"
      ]
     },
     "execution_count": 9,
     "metadata": {},
     "output_type": "execute_result"
    }
   ],
   "source": [
    "# Train a logistic regression model\n",
    "model = LogisticRegression()\n",
    "model.fit(X_train, y_train)"
   ]
  },
  {
   "cell_type": "code",
   "execution_count": 13,
   "id": "4a571d72",
   "metadata": {},
   "outputs": [],
   "source": [
    "# Make predictions on the test set\n",
    "y_pred = model.predict(X_test)"
   ]
  },
  {
   "cell_type": "code",
   "execution_count": 11,
   "id": "db190fdc",
   "metadata": {},
   "outputs": [
    {
     "name": "stdout",
     "output_type": "stream",
     "text": [
      "Accuracy: 0.7\n"
     ]
    }
   ],
   "source": [
    "# Evaluate the accuracy of the model\n",
    "accuracy = accuracy_score(y_test, y_pred)\n",
    "print('Accuracy:', accuracy)"
   ]
  },
  {
   "cell_type": "code",
   "execution_count": 20,
   "id": "247f7108",
   "metadata": {},
   "outputs": [
    {
     "data": {
      "text/plain": [
       "78     1\n",
       "371    1\n",
       "248    0\n",
       "55     1\n",
       "390    0\n",
       "223    1\n",
       "42     1\n",
       "234    0\n",
       "316    0\n",
       "116    1\n",
       "9      1\n",
       "209    0\n",
       "323    1\n",
       "393    1\n",
       "258    1\n",
       "155    0\n",
       "124    0\n",
       "272    1\n",
       "324    1\n",
       "334    0\n",
       "15     1\n",
       "391    1\n",
       "167    1\n",
       "0      0\n",
       "140    0\n",
       "113    1\n",
       "77     1\n",
       "33     1\n",
       "101    1\n",
       "76     1\n",
       "307    0\n",
       "375    1\n",
       "291    1\n",
       "356    1\n",
       "90     0\n",
       "384    0\n",
       "137    0\n",
       "57     1\n",
       "73     1\n",
       "25     0\n",
       "Name: G3, dtype: int32"
      ]
     },
     "execution_count": 20,
     "metadata": {},
     "output_type": "execute_result"
    }
   ],
   "source": [
    "# Test set \n",
    "\n",
    "y_test"
   ]
  },
  {
   "cell_type": "code",
   "execution_count": 15,
   "id": "cbb613e0",
   "metadata": {},
   "outputs": [
    {
     "data": {
      "text/plain": [
       "array([0, 1, 1, 1, 0, 1, 1, 1, 1, 1, 1, 1, 1, 1, 1, 1, 1, 1, 1, 1, 1, 1,\n",
       "       1, 1, 1, 1, 1, 1, 1, 1, 0, 1, 1, 1, 1, 1, 0, 1, 1, 0])"
      ]
     },
     "execution_count": 15,
     "metadata": {},
     "output_type": "execute_result"
    }
   ],
   "source": [
    "# Predicted Ys\n",
    "\n",
    "y_pred"
   ]
  },
  {
   "cell_type": "code",
   "execution_count": null,
   "id": "86b37f82",
   "metadata": {},
   "outputs": [],
   "source": []
  }
 ],
 "metadata": {
  "kernelspec": {
   "display_name": "Python 3 (ipykernel)",
   "language": "python",
   "name": "python3"
  },
  "language_info": {
   "codemirror_mode": {
    "name": "ipython",
    "version": 3
   },
   "file_extension": ".py",
   "mimetype": "text/x-python",
   "name": "python",
   "nbconvert_exporter": "python",
   "pygments_lexer": "ipython3",
   "version": "3.9.13"
  }
 },
 "nbformat": 4,
 "nbformat_minor": 5
}
